{
 "cells": [
  {
   "cell_type": "code",
   "execution_count": null,
   "metadata": {},
   "outputs": [],
   "source": [
    "# import numpy library as np \n",
    "import numpy as np \n",
    "# import pandas library as pd \n",
    "import pandas as pd \n",
    "# import matplotlib.pyplot library as plt \n",
    "import matplotlib.pyplot as plt\n",
    "#pip install plotnine --user\n",
    "## https://plotnine.readthedocs.io/en/stable/tutorials/miscellaneous-altering-colors.html\n",
    "##\n",
    "import os\n",
    "import plotnine as pltnine\n",
    "from plotnine import *\n",
    "\n",
    "%matplotlib inline"
   ]
  }
 ],
 "metadata": {
  "kernelspec": {
   "display_name": "Python 3",
   "language": "python",
   "name": "python3"
  },
  "language_info": {
   "codemirror_mode": {
    "name": "ipython",
    "version": 3
   },
   "file_extension": ".py",
   "mimetype": "text/x-python",
   "name": "python",
   "nbconvert_exporter": "python",
   "pygments_lexer": "ipython3",
   "version": "3.7.3"
  }
 },
 "nbformat": 4,
 "nbformat_minor": 2
}
